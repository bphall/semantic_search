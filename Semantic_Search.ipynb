{
 "cells": [
  {
   "cell_type": "code",
   "execution_count": 1,
   "metadata": {},
   "outputs": [],
   "source": [
    "import nltk\n",
    "from nltk import RegexpTokenizer\n",
    "from nltk.tokenize import word_tokenize\n",
    "from nltk.corpus import stopwords\n",
    "import time\n",
    "import re\n",
    "import numpy as np\n",
    "import pandas as pd\n",
    "import json\n",
    "from pprint import pprint\n",
    "import seaborn as sns\n",
    "import matplotlib.pyplot as plt\n",
    "%matplotlib inline\n",
    "\n",
    "#BeautifulSoup\n",
    "from bs4 import BeautifulSoup\n",
    "import requests\n",
    "\n",
    "# Gensim\n",
    "import gensim\n",
    "import gensim.corpora as corpora\n",
    "from gensim.utils import simple_preprocess\n",
    "from gensim.models import CoherenceModel\n",
    "from gensim.models.doc2vec import Doc2Vec, TaggedDocument\n",
    "from gensim.models.doc2vec import LabeledSentence\n",
    "\n",
    "# spacy for lemmatization\n",
    "import spacy\n",
    "\n",
    "# Plotting tools FOR TOPIC MODELING\n",
    "import pyLDAvis\n",
    "import pyLDAvis.gensim  # don't skip this\n",
    "\n",
    "\n",
    "# Enable logging for gensim - optional  (I HAVEN'T USED THIS YET)\n",
    "import logging\n",
    "logging.basicConfig(format='%(asctime)s : %(levelname)s : %(message)s', level=logging.ERROR)\n",
    "\n",
    "\n",
    "# NLTK Stop words -------------- ADD TO THESE AS WE SEE FIT\n",
    "from nltk.corpus import stopwords\n",
    "from wordcloud import WordCloud, STOPWORDS \n",
    "\n",
    "import warnings\n",
    "warnings.filterwarnings(\"ignore\",category=DeprecationWarning)\n",
    "\n",
    "import pickle\n",
    "\n",
    "pd.set_option('display.max_columns', 400)\n",
    "pd.set_option('display.max_rows', 400)"
   ]
  },
  {
   "cell_type": "markdown",
   "metadata": {},
   "source": [
    "# Import Novels"
   ]
  },
  {
   "cell_type": "code",
   "execution_count": 2,
   "metadata": {},
   "outputs": [],
   "source": [
    "first_fifty = pickle.load( open( \"pickled_novel_dict_0_50\", \"rb\" ) )"
   ]
  },
  {
   "cell_type": "code",
   "execution_count": 3,
   "metadata": {},
   "outputs": [],
   "source": [
    "second_fifty = pickle.load( open( \"pickled_novel_dict_50_100\", \"rb\" ) )\n",
    "# favorite_color is now { \"lion\": \"yellow\", \"kitty\": \"red\" }d"
   ]
  },
  {
   "cell_type": "code",
   "execution_count": 4,
   "metadata": {},
   "outputs": [],
   "source": [
    "titles = []"
   ]
  },
  {
   "cell_type": "code",
   "execution_count": 5,
   "metadata": {},
   "outputs": [],
   "source": [
    "for i in first_fifty.keys():\n",
    "    titles.append(i)"
   ]
  },
  {
   "cell_type": "code",
   "execution_count": 6,
   "metadata": {},
   "outputs": [],
   "source": [
    "for i in second_fifty.keys():\n",
    "    titles.append(i)"
   ]
  },
  {
   "cell_type": "code",
   "execution_count": 7,
   "metadata": {},
   "outputs": [
    {
     "data": {
      "text/plain": [
       "99"
      ]
     },
     "execution_count": 7,
     "metadata": {},
     "output_type": "execute_result"
    }
   ],
   "source": [
    "len(titles)"
   ]
  },
  {
   "cell_type": "markdown",
   "metadata": {},
   "source": [
    "# Tokenize, Clean, and Tag Functions"
   ]
  },
  {
   "cell_type": "code",
   "execution_count": 8,
   "metadata": {},
   "outputs": [],
   "source": [
    "def p_ize(novel):    \n",
    "    broken = []\n",
    "    start = 0\n",
    "    end = 1200\n",
    "    final = len(novel)\n",
    "    while start < final:\n",
    "        broken.append(novel[start:end])\n",
    "        start += 1200\n",
    "        end += 1200\n",
    "    return broken"
   ]
  },
  {
   "cell_type": "code",
   "execution_count": 9,
   "metadata": {},
   "outputs": [],
   "source": [
    "tokenizer = RegexpTokenizer(r'\\w+')\n",
    "stopword_set = set(stopwords.words('english'))"
   ]
  },
  {
   "cell_type": "code",
   "execution_count": 10,
   "metadata": {},
   "outputs": [],
   "source": [
    "def model_tokenizer(input_data):\n",
    "    lowered = input_data.lower()\n",
    "    tokens = tokenizer.tokenize(lowered)\n",
    "    return tokens"
   ]
  },
  {
   "cell_type": "code",
   "execution_count": 11,
   "metadata": {},
   "outputs": [],
   "source": [
    "def lexicon(input_data):\n",
    "    lowered = input_data.lower()\n",
    "    tokens = tokenizer.tokenize(lowered)\n",
    "    nonstop_tokens = list(set(tokens).difference(stopword_set))\n",
    "    return nonstop_tokens"
   ]
  },
  {
   "cell_type": "code",
   "execution_count": 12,
   "metadata": {},
   "outputs": [],
   "source": [
    "def token_keep_stop(input_data):\n",
    "    lowered = input_data.lower()\n",
    "    tokens = tokenizer.tokenize(lowered)\n",
    "    return tokens"
   ]
  },
  {
   "cell_type": "code",
   "execution_count": 13,
   "metadata": {},
   "outputs": [],
   "source": [
    "def token_no_stop(input_data):\n",
    "    lowered = input_data.lower()\n",
    "    tokens = tokenizer.tokenize(lowered)\n",
    "    nonstop_tokens = [token for token in tokens if token not in stopword_set]\n",
    "    return nonstop_tokens"
   ]
  },
  {
   "cell_type": "markdown",
   "metadata": {},
   "source": [
    "# Word, Paragraph, and Lexicon Creation"
   ]
  },
  {
   "cell_type": "code",
   "execution_count": 14,
   "metadata": {},
   "outputs": [],
   "source": [
    "book_word_length_0_50 = []\n",
    "book_word_length_no_stop_0_50 = []\n",
    "book_lexicon_length_0_50 = []\n",
    "\n",
    "for i in list(first_fifty.values()):\n",
    "    length = len(token_keep_stop(i))\n",
    "    book_word_length_0_50.append(length)\n",
    "    \n",
    "    length_no_stop = len(token_no_stop(i))\n",
    "    book_word_length_no_stop_0_50.append(length_no_stop)\n",
    "\n",
    "    length_lexicon = len(lexicon(i))\n",
    "    book_lexicon_length_0_50.append(length_lexicon)"
   ]
  },
  {
   "cell_type": "code",
   "execution_count": 15,
   "metadata": {},
   "outputs": [
    {
     "data": {
      "text/plain": [
       "49"
      ]
     },
     "execution_count": 15,
     "metadata": {},
     "output_type": "execute_result"
    }
   ],
   "source": [
    "len(book_word_length_0_50)"
   ]
  },
  {
   "cell_type": "code",
   "execution_count": 16,
   "metadata": {},
   "outputs": [],
   "source": [
    "book_word_length_50_100 = []\n",
    "book_word_length_no_stop_50_100 = []\n",
    "book_lexicon_length_50_100 = []\n",
    "\n",
    "for i in list(second_fifty.values()):\n",
    "    length = len(token_keep_stop(i))\n",
    "    book_word_length_50_100.append(length)\n",
    "    \n",
    "    length_no_stop = len(token_no_stop(i))\n",
    "    book_word_length_no_stop_50_100.append(length_no_stop)\n",
    "\n",
    "    length_lexicon = len(lexicon(i))\n",
    "    book_lexicon_length_50_100.append(length_lexicon)"
   ]
  },
  {
   "cell_type": "code",
   "execution_count": 17,
   "metadata": {},
   "outputs": [
    {
     "data": {
      "text/plain": [
       "50"
      ]
     },
     "execution_count": 17,
     "metadata": {},
     "output_type": "execute_result"
    }
   ],
   "source": [
    "len(book_word_length_50_100)"
   ]
  },
  {
   "cell_type": "code",
   "execution_count": 18,
   "metadata": {},
   "outputs": [],
   "source": [
    "book_word_length = book_word_length_0_50 + book_word_length_50_100"
   ]
  },
  {
   "cell_type": "code",
   "execution_count": 19,
   "metadata": {},
   "outputs": [],
   "source": [
    "lexicon_length = book_lexicon_length_0_50 + book_lexicon_length_50_100"
   ]
  },
  {
   "cell_type": "code",
   "execution_count": 20,
   "metadata": {},
   "outputs": [],
   "source": [
    "paragraph_count_0_50 = [len(p_ize(i))for i in first_fifty.values()]"
   ]
  },
  {
   "cell_type": "code",
   "execution_count": 21,
   "metadata": {},
   "outputs": [],
   "source": [
    "paragraph_count_50_100 = [len(p_ize(i))for i in second_fifty.values()]"
   ]
  },
  {
   "cell_type": "code",
   "execution_count": 22,
   "metadata": {},
   "outputs": [],
   "source": [
    "paragraph_count = paragraph_count_0_50 + paragraph_count_50_100"
   ]
  },
  {
   "cell_type": "markdown",
   "metadata": {},
   "source": [
    "# DataFrames of Novels and Paragraphs"
   ]
  },
  {
   "cell_type": "markdown",
   "metadata": {},
   "source": [
    "## Novels as a Whole"
   ]
  },
  {
   "cell_type": "code",
   "execution_count": 23,
   "metadata": {},
   "outputs": [],
   "source": [
    "novels = pd.DataFrame()"
   ]
  },
  {
   "cell_type": "code",
   "execution_count": 24,
   "metadata": {},
   "outputs": [],
   "source": [
    "novels['title'] = titles"
   ]
  },
  {
   "cell_type": "code",
   "execution_count": 25,
   "metadata": {},
   "outputs": [],
   "source": [
    "novels['word_count'] = book_word_length"
   ]
  },
  {
   "cell_type": "code",
   "execution_count": 26,
   "metadata": {},
   "outputs": [],
   "source": [
    "novels['lexicon_count'] = lexicon_length"
   ]
  },
  {
   "cell_type": "code",
   "execution_count": 27,
   "metadata": {},
   "outputs": [],
   "source": [
    "novels['lex_total_ratio'] = novels.lexicon_count/novels.word_count"
   ]
  },
  {
   "cell_type": "code",
   "execution_count": 28,
   "metadata": {},
   "outputs": [],
   "source": [
    "novels['paragraph_count'] = paragraph_count"
   ]
  },
  {
   "cell_type": "markdown",
   "metadata": {},
   "source": [
    "### Literary-ness"
   ]
  },
  {
   "cell_type": "markdown",
   "metadata": {},
   "source": [
    "**Following parameters can be played with (word count and lex_total_ratio) to find the sweet spot of 'wordy' or 'literary' novels/paragraphs.**"
   ]
  },
  {
   "cell_type": "code",
   "execution_count": 29,
   "metadata": {},
   "outputs": [],
   "source": [
    "novels['over_150k_words_5perc_lex'] = np.where((novels.word_count > 150000) & (novels.lex_total_ratio >.05), 1, 0)"
   ]
  },
  {
   "cell_type": "code",
   "execution_count": 30,
   "metadata": {
    "scrolled": true
   },
   "outputs": [
    {
     "data": {
      "text/html": [
       "<div>\n",
       "<style scoped>\n",
       "    .dataframe tbody tr th:only-of-type {\n",
       "        vertical-align: middle;\n",
       "    }\n",
       "\n",
       "    .dataframe tbody tr th {\n",
       "        vertical-align: top;\n",
       "    }\n",
       "\n",
       "    .dataframe thead th {\n",
       "        text-align: right;\n",
       "    }\n",
       "</style>\n",
       "<table border=\"1\" class=\"dataframe\">\n",
       "  <thead>\n",
       "    <tr style=\"text-align: right;\">\n",
       "      <th></th>\n",
       "      <th>title</th>\n",
       "      <th>word_count</th>\n",
       "      <th>lexicon_count</th>\n",
       "      <th>lex_total_ratio</th>\n",
       "      <th>paragraph_count</th>\n",
       "      <th>over_150k_words_5perc_lex</th>\n",
       "    </tr>\n",
       "  </thead>\n",
       "  <tbody>\n",
       "    <tr>\n",
       "      <td>0</td>\n",
       "      <td>Pride and Prejudice</td>\n",
       "      <td>122876</td>\n",
       "      <td>6187</td>\n",
       "      <td>0.050352</td>\n",
       "      <td>568</td>\n",
       "      <td>0</td>\n",
       "    </tr>\n",
       "    <tr>\n",
       "      <td>1</td>\n",
       "      <td>FrankensteinOrThe Modern Prometheus</td>\n",
       "      <td>78092</td>\n",
       "      <td>7068</td>\n",
       "      <td>0.090509</td>\n",
       "      <td>363</td>\n",
       "      <td>0</td>\n",
       "    </tr>\n",
       "    <tr>\n",
       "      <td>2</td>\n",
       "      <td>A Journal of the Plague Year</td>\n",
       "      <td>94304</td>\n",
       "      <td>5573</td>\n",
       "      <td>0.059096</td>\n",
       "      <td>423</td>\n",
       "      <td>0</td>\n",
       "    </tr>\n",
       "    <tr>\n",
       "      <td>3</td>\n",
       "      <td>The Importance of Being EarnestA Trivial Comed...</td>\n",
       "      <td>21045</td>\n",
       "      <td>2481</td>\n",
       "      <td>0.117890</td>\n",
       "      <td>97</td>\n",
       "      <td>0</td>\n",
       "    </tr>\n",
       "    <tr>\n",
       "      <td>4</td>\n",
       "      <td>The Works of Edgar Allan PoeThe Raven Edition</td>\n",
       "      <td>423370</td>\n",
       "      <td>21029</td>\n",
       "      <td>0.049671</td>\n",
       "      <td>1981</td>\n",
       "      <td>0</td>\n",
       "    </tr>\n",
       "  </tbody>\n",
       "</table>\n",
       "</div>"
      ],
      "text/plain": [
       "                                               title  word_count  \\\n",
       "0                                Pride and Prejudice      122876   \n",
       "1                FrankensteinOrThe Modern Prometheus       78092   \n",
       "2                       A Journal of the Plague Year       94304   \n",
       "3  The Importance of Being EarnestA Trivial Comed...       21045   \n",
       "4      The Works of Edgar Allan PoeThe Raven Edition      423370   \n",
       "\n",
       "   lexicon_count  lex_total_ratio  paragraph_count  over_150k_words_5perc_lex  \n",
       "0           6187         0.050352              568                          0  \n",
       "1           7068         0.090509              363                          0  \n",
       "2           5573         0.059096              423                          0  \n",
       "3           2481         0.117890               97                          0  \n",
       "4          21029         0.049671             1981                          0  "
      ]
     },
     "execution_count": 30,
     "metadata": {},
     "output_type": "execute_result"
    }
   ],
   "source": [
    "novels.head()"
   ]
  },
  {
   "cell_type": "code",
   "execution_count": 31,
   "metadata": {},
   "outputs": [],
   "source": [
    "most_literary = list(novels[novels.over_150k_words_5perc_lex == 1].title.values)"
   ]
  },
  {
   "cell_type": "code",
   "execution_count": 32,
   "metadata": {},
   "outputs": [
    {
     "data": {
      "text/plain": [
       "['Moby DickOrThe Whale',\n",
       " 'Little Women',\n",
       " 'Dracula',\n",
       " 'Jane EyreAn Autobiography',\n",
       " 'Great Expectations',\n",
       " 'Ulysses',\n",
       " 'Oliver Twist',\n",
       " \"Uncle Tom's Cabin\",\n",
       " 'The Jungle',\n",
       " 'The Slang DictionaryEtymologicalHistorical and Andecdotal']"
      ]
     },
     "execution_count": 32,
     "metadata": {},
     "output_type": "execute_result"
    }
   ],
   "source": [
    "most_literary"
   ]
  },
  {
   "cell_type": "markdown",
   "metadata": {},
   "source": [
    "## Paragraphs"
   ]
  },
  {
   "cell_type": "code",
   "execution_count": 33,
   "metadata": {},
   "outputs": [],
   "source": [
    "text = list(zip(titles,(list(first_fifty.values()) + list(second_fifty.values()))))"
   ]
  },
  {
   "cell_type": "code",
   "execution_count": 34,
   "metadata": {},
   "outputs": [],
   "source": [
    "final = []\n",
    "for i in text:\n",
    "    name = i[0]\n",
    "    paragraphs = p_ize(i[1])\n",
    "    for i in paragraphs:\n",
    "        final.append((name,i))"
   ]
  },
  {
   "cell_type": "code",
   "execution_count": 35,
   "metadata": {},
   "outputs": [],
   "source": [
    "paragraphs = pd.DataFrame()"
   ]
  },
  {
   "cell_type": "code",
   "execution_count": 36,
   "metadata": {},
   "outputs": [],
   "source": [
    "titles_p = [i[0] for i in final]"
   ]
  },
  {
   "cell_type": "code",
   "execution_count": 37,
   "metadata": {},
   "outputs": [],
   "source": [
    "para_p = [i[1] for i in final]"
   ]
  },
  {
   "cell_type": "code",
   "execution_count": 38,
   "metadata": {},
   "outputs": [],
   "source": [
    "paragraphs['title'] = titles_p"
   ]
  },
  {
   "cell_type": "code",
   "execution_count": 39,
   "metadata": {},
   "outputs": [],
   "source": [
    "paragraphs['chunks'] = para_p"
   ]
  },
  {
   "cell_type": "code",
   "execution_count": 40,
   "metadata": {},
   "outputs": [],
   "source": [
    "paragraphs['tokens'] = paragraphs['chunks'].map(lexicon)"
   ]
  },
  {
   "cell_type": "code",
   "execution_count": 41,
   "metadata": {},
   "outputs": [],
   "source": [
    "paragraphs['tokens_in_order'] = paragraphs['chunks'].map(model_tokenizer)"
   ]
  },
  {
   "cell_type": "code",
   "execution_count": 42,
   "metadata": {},
   "outputs": [],
   "source": [
    "paragraphs['tag'] = [str(i) for i in paragraphs.index]"
   ]
  },
  {
   "cell_type": "code",
   "execution_count": 43,
   "metadata": {},
   "outputs": [],
   "source": [
    "paragraphs['token_count'] = [len(i) for i in paragraphs.tokens]"
   ]
  },
  {
   "cell_type": "markdown",
   "metadata": {},
   "source": [
    "### Literary-ness"
   ]
  },
  {
   "cell_type": "markdown",
   "metadata": {},
   "source": [
    "**Parameter for determining the most wordy or literary paragraphs.**"
   ]
  },
  {
   "cell_type": "code",
   "execution_count": 44,
   "metadata": {},
   "outputs": [],
   "source": [
    "paragraphs['high_lexicon'] = np.where(paragraphs.token_count > 125, 1, 0)"
   ]
  },
  {
   "cell_type": "code",
   "execution_count": 45,
   "metadata": {},
   "outputs": [
    {
     "data": {
      "text/html": [
       "<div>\n",
       "<style scoped>\n",
       "    .dataframe tbody tr th:only-of-type {\n",
       "        vertical-align: middle;\n",
       "    }\n",
       "\n",
       "    .dataframe tbody tr th {\n",
       "        vertical-align: top;\n",
       "    }\n",
       "\n",
       "    .dataframe thead th {\n",
       "        text-align: right;\n",
       "    }\n",
       "</style>\n",
       "<table border=\"1\" class=\"dataframe\">\n",
       "  <thead>\n",
       "    <tr style=\"text-align: right;\">\n",
       "      <th></th>\n",
       "      <th>title</th>\n",
       "      <th>chunks</th>\n",
       "      <th>tokens</th>\n",
       "      <th>tokens_in_order</th>\n",
       "      <th>tag</th>\n",
       "      <th>token_count</th>\n",
       "      <th>high_lexicon</th>\n",
       "    </tr>\n",
       "  </thead>\n",
       "  <tbody>\n",
       "    <tr>\n",
       "      <td>0</td>\n",
       "      <td>Pride and Prejudice</td>\n",
       "      <td>CONTENTS Chapter 1 Chapter 2 Chapter 3 Chapte...</td>\n",
       "      <td>[may, universally, 47, 6, 29, 38, 14, let, 41,...</td>\n",
       "      <td>[contents, chapter, 1, chapter, 2, chapter, 3,...</td>\n",
       "      <td>0</td>\n",
       "      <td>105</td>\n",
       "      <td>0</td>\n",
       "    </tr>\n",
       "    <tr>\n",
       "      <td>1</td>\n",
       "      <td>Pride and Prejudice</td>\n",
       "      <td>s,” returned she; “for Mrs. Long has just been...</td>\n",
       "      <td>[girls, next, may, made, delighted, large, ans...</td>\n",
       "      <td>[s, returned, she, for, mrs, long, has, just, ...</td>\n",
       "      <td>1</td>\n",
       "      <td>77</td>\n",
       "      <td>0</td>\n",
       "    </tr>\n",
       "    <tr>\n",
       "      <td>2</td>\n",
       "      <td>Pride and Prejudice</td>\n",
       "      <td>m as soon as he comes.” “I see no occasion for...</td>\n",
       "      <td>[girls, merely, go, grown, much, us, may, occa...</td>\n",
       "      <td>[m, as, soon, as, he, comes, i, see, no, occas...</td>\n",
       "      <td>2</td>\n",
       "      <td>73</td>\n",
       "      <td>0</td>\n",
       "    </tr>\n",
       "    <tr>\n",
       "      <td>3</td>\n",
       "      <td>Pride and Prejudice</td>\n",
       "      <td>rd for my little Lizzy.” “I desire you will do...</td>\n",
       "      <td>[girls, ignorant, lizzy, quickness, silly, lit...</td>\n",
       "      <td>[rd, for, my, little, lizzy, i, desire, you, w...</td>\n",
       "      <td>3</td>\n",
       "      <td>85</td>\n",
       "      <td>0</td>\n",
       "    </tr>\n",
       "    <tr>\n",
       "      <td>4</td>\n",
       "      <td>Pride and Prejudice</td>\n",
       "      <td>to make his wife understand his character. He...</td>\n",
       "      <td>[trimming, mamma, lizzy, hypocritical, little,...</td>\n",
       "      <td>[to, make, his, wife, understand, his, charact...</td>\n",
       "      <td>4</td>\n",
       "      <td>83</td>\n",
       "      <td>0</td>\n",
       "    </tr>\n",
       "  </tbody>\n",
       "</table>\n",
       "</div>"
      ],
      "text/plain": [
       "                 title                                             chunks  \\\n",
       "0  Pride and Prejudice   CONTENTS Chapter 1 Chapter 2 Chapter 3 Chapte...   \n",
       "1  Pride and Prejudice  s,” returned she; “for Mrs. Long has just been...   \n",
       "2  Pride and Prejudice  m as soon as he comes.” “I see no occasion for...   \n",
       "3  Pride and Prejudice  rd for my little Lizzy.” “I desire you will do...   \n",
       "4  Pride and Prejudice   to make his wife understand his character. He...   \n",
       "\n",
       "                                              tokens  \\\n",
       "0  [may, universally, 47, 6, 29, 38, 14, let, 41,...   \n",
       "1  [girls, next, may, made, delighted, large, ans...   \n",
       "2  [girls, merely, go, grown, much, us, may, occa...   \n",
       "3  [girls, ignorant, lizzy, quickness, silly, lit...   \n",
       "4  [trimming, mamma, lizzy, hypocritical, little,...   \n",
       "\n",
       "                                     tokens_in_order tag  token_count  \\\n",
       "0  [contents, chapter, 1, chapter, 2, chapter, 3,...   0          105   \n",
       "1  [s, returned, she, for, mrs, long, has, just, ...   1           77   \n",
       "2  [m, as, soon, as, he, comes, i, see, no, occas...   2           73   \n",
       "3  [rd, for, my, little, lizzy, i, desire, you, w...   3           85   \n",
       "4  [to, make, his, wife, understand, his, charact...   4           83   \n",
       "\n",
       "   high_lexicon  \n",
       "0             0  \n",
       "1             0  \n",
       "2             0  \n",
       "3             0  \n",
       "4             0  "
      ]
     },
     "execution_count": 45,
     "metadata": {},
     "output_type": "execute_result"
    }
   ],
   "source": [
    "paragraphs.head()"
   ]
  },
  {
   "cell_type": "code",
   "execution_count": 46,
   "metadata": {},
   "outputs": [
    {
     "data": {
      "text/plain": [
       "['The Slang DictionaryEtymologicalHistorical and Andecdotal',\n",
       " 'The Decameron of Giovanni Boccaccio',\n",
       " 'Ulysses',\n",
       " 'Geschlecht und CharakterEnglish',\n",
       " 'Index of Project Gutenberg Works on Black History',\n",
       " 'The Works of Edgar Allan PoeThe Raven Edition',\n",
       " 'Also sprach ZarathustraEnglish',\n",
       " 'The Picture of Dorian Gray',\n",
       " 'Little Women',\n",
       " 'The Iliad',\n",
       " \"La Navigation Aérienne L'aviation Et La Direction Des Aérostats Dans Les Temps Anciens Et Modernes\",\n",
       " 'Second Treatise of Government',\n",
       " 'Wuthering Heights',\n",
       " 'The MemoirsCorrespondenceAnd MiscellaniesFrom The Papers Of Thomas Jefferson',\n",
       " 'BeowulfAn Anglo-Saxon Epic Poem']"
      ]
     },
     "execution_count": 46,
     "metadata": {},
     "output_type": "execute_result"
    }
   ],
   "source": [
    "list(set(paragraphs[paragraphs['high_lexicon'] == 1].title.values))"
   ]
  },
  {
   "cell_type": "markdown",
   "metadata": {},
   "source": [
    "# EDA"
   ]
  },
  {
   "cell_type": "markdown",
   "metadata": {},
   "source": [
    "## Novel EDA"
   ]
  },
  {
   "cell_type": "code",
   "execution_count": 47,
   "metadata": {},
   "outputs": [
    {
     "data": {
      "image/png": "[encoded data removed]",
      "text/plain": [
       "<Figure size 432x288 with 1 Axes>"
      ]
     },
     "metadata": {
      "needs_background": "light"
     },
     "output_type": "display_data"
    }
   ],
   "source": [
    "sns.distplot(novels.word_count)\n",
    "plt.title('Word Count Distribution for Novels')\n",
    "plt.show()"
   ]
  },
  {
   "cell_type": "code",
   "execution_count": 48,
   "metadata": {},
   "outputs": [
    {
     "data": {
      "text/plain": [
       "count        99.000000\n",
       "mean     121642.050505\n",
       "std      144632.943993\n",
       "min          94.000000\n",
       "25%       37211.500000\n",
       "50%       70054.000000\n",
       "75%      155955.000000\n",
       "max      862471.000000\n",
       "Name: word_count, dtype: float64"
      ]
     },
     "execution_count": 48,
     "metadata": {},
     "output_type": "execute_result"
    }
   ],
   "source": [
    "novels.word_count.describe()"
   ]
  },
  {
   "cell_type": "code",
   "execution_count": 49,
   "metadata": {
    "scrolled": true
   },
   "outputs": [
    {
     "data": {
      "image/png": "[encoded data removed]",
      "text/plain": [
       "<Figure size 432x288 with 1 Axes>"
      ]
     },
     "metadata": {
      "needs_background": "light"
     },
     "output_type": "display_data"
    }
   ],
   "source": [
    "sns.distplot(novels.lexicon_count)\n",
    "plt.title('Lexicon Distribution for Novels')\n",
    "plt.show()"
   ]
  },
  {
   "cell_type": "code",
   "execution_count": 50,
   "metadata": {},
   "outputs": [
    {
     "data": {
      "text/plain": [
       "count       99.000000\n",
       "mean      7267.262626\n",
       "std       5267.477444\n",
       "min         49.000000\n",
       "25%       4248.500000\n",
       "50%       6412.000000\n",
       "75%       9094.500000\n",
       "max      29012.000000\n",
       "Name: lexicon_count, dtype: float64"
      ]
     },
     "execution_count": 50,
     "metadata": {},
     "output_type": "execute_result"
    }
   ],
   "source": [
    "novels.lexicon_count.describe()"
   ]
  },
  {
   "cell_type": "code",
   "execution_count": 51,
   "metadata": {},
   "outputs": [
    {
     "data": {
      "image/png": "[encoded data removed]",
      "text/plain": [
       "<Figure size 432x288 with 1 Axes>"
      ]
     },
     "metadata": {
      "needs_background": "light"
     },
     "output_type": "display_data"
    }
   ],
   "source": [
    "sns.distplot(novels.lex_total_ratio)\n",
    "plt.axvline(.05, color='red')\n",
    "plt.title('Lexicon Ratio with Red Line Indicating Minimal Threshold of Uniqueness')\n",
    "plt.show()"
   ]
  },
  {
   "cell_type": "code",
   "execution_count": 52,
   "metadata": {},
   "outputs": [
    {
     "data": {
      "text/plain": [
       "count    99.000000\n",
       "mean      0.111024\n",
       "std       0.088999\n",
       "min       0.022730\n",
       "25%       0.056793\n",
       "50%       0.088378\n",
       "75%       0.121077\n",
       "max       0.521277\n",
       "Name: lex_total_ratio, dtype: float64"
      ]
     },
     "execution_count": 52,
     "metadata": {},
     "output_type": "execute_result"
    }
   ],
   "source": [
    "novels.lex_total_ratio.describe()"
   ]
  },
  {
   "cell_type": "code",
   "execution_count": 53,
   "metadata": {
    "scrolled": false
   },
   "outputs": [
    {
     "data": {
      "image/png": "[encoded data removed]",
      "text/plain": [
       "<Figure size 864x504 with 1 Axes>"
      ]
     },
     "metadata": {
      "needs_background": "light"
     },
     "output_type": "display_data"
    }
   ],
   "source": [
    "plt.figure(figsize=(12,7))\n",
    "sns.scatterplot(novels.word_count, novels.lex_total_ratio, hue=novels.over_150k_words_5perc_lex)\n",
    "plt.text(200000,.2, \"Literary Books based on highest lexicon ratio: \\n\\n Moby Dick \\n Little Women \\n Dracula \\n Jane Eyre \\n Great Expectations \\n Ulysses \\n Oliver Twist \\n Uncle Tom's Cabin \\n The Jungle \\n The Slang Dictionary\")\n",
    "plt.title('Most Literary Books with 5% Threshold by Lexicon/Total Length Ratio')\n",
    "plt.show()"
   ]
  },
  {
   "cell_type": "code",
   "execution_count": 54,
   "metadata": {},
   "outputs": [
    {
     "data": {
      "image/png": "[encoded data removed]",
      "text/plain": [
       "<Figure size 864x504 with 1 Axes>"
      ]
     },
     "metadata": {
      "needs_background": "light"
     },
     "output_type": "display_data"
    }
   ],
   "source": [
    "plt.figure(figsize=(12,7))\n",
    "sns.scatterplot(novels.word_count, novels.lexicon_count, hue=novels.over_150k_words_5perc_lex)\n",
    "plt.text(-1000,15000, \"Literary Books based on highest lexicon ratio: \\n\\n Moby Dick \\n Little Women \\n Dracula \\n Jane Eyre \\n Great Expectations \\n Ulysses \\n Oliver Twist \\n Uncle Tom's Cabin \\n The Jungle \\n The Slang Dictionary\")\n",
    "plt.title('Most Literary Books with 5% Threshold by Lexicon Count')\n",
    "plt.show()"
   ]
  },
  {
   "cell_type": "markdown",
   "metadata": {},
   "source": [
    "## Paragraph EDA"
   ]
  },
  {
   "cell_type": "markdown",
   "metadata": {},
   "source": [
    "**Display of paragraphs above a certain literary threshold (125 unique words per paragraph) and their associated book titles below**"
   ]
  },
  {
   "cell_type": "code",
   "execution_count": 55,
   "metadata": {
    "scrolled": false
   },
   "outputs": [
    {
     "data": {
      "image/png": "[encoded data removed]",
      "text/plain": [
       "<Figure size 864x504 with 1 Axes>"
      ]
     },
     "metadata": {
      "needs_background": "light"
     },
     "output_type": "display_data"
    }
   ],
   "source": [
    "plt.figure(figsize=(12,7))\n",
    "sns.distplot(paragraphs.token_count)\n",
    "plt.axvline(125, color='red')\n",
    "plt.show()"
   ]
  },
  {
   "cell_type": "code",
   "execution_count": 56,
   "metadata": {},
   "outputs": [
    {
     "data": {
      "text/plain": [
       "['The Slang DictionaryEtymologicalHistorical and Andecdotal',\n",
       " 'The Decameron of Giovanni Boccaccio',\n",
       " 'Ulysses',\n",
       " 'Geschlecht und CharakterEnglish',\n",
       " 'Index of Project Gutenberg Works on Black History',\n",
       " 'The Works of Edgar Allan PoeThe Raven Edition',\n",
       " 'Also sprach ZarathustraEnglish',\n",
       " 'The Picture of Dorian Gray',\n",
       " 'Little Women',\n",
       " 'The Iliad',\n",
       " \"La Navigation Aérienne L'aviation Et La Direction Des Aérostats Dans Les Temps Anciens Et Modernes\",\n",
       " 'Second Treatise of Government',\n",
       " 'Wuthering Heights',\n",
       " 'The MemoirsCorrespondenceAnd MiscellaniesFrom The Papers Of Thomas Jefferson',\n",
       " 'BeowulfAn Anglo-Saxon Epic Poem']"
      ]
     },
     "execution_count": 56,
     "metadata": {},
     "output_type": "execute_result"
    }
   ],
   "source": [
    "list(set(paragraphs[paragraphs['high_lexicon'] == 1].title.values))"
   ]
  },
  {
   "cell_type": "markdown",
   "metadata": {},
   "source": [
    "# Doc2Vec Model"
   ]
  },
  {
   "cell_type": "code",
   "execution_count": 57,
   "metadata": {},
   "outputs": [],
   "source": [
    "def model_tokenizer(input_data):\n",
    "    lowered = input_data.lower()\n",
    "    tokens = tokenizer.tokenize(lowered)\n",
    "    return tokens"
   ]
  },
  {
   "cell_type": "code",
   "execution_count": 58,
   "metadata": {},
   "outputs": [],
   "source": [
    "all_tokens = [model_tokenizer(i) for i in paragraphs.chunks.values]"
   ]
  },
  {
   "cell_type": "code",
   "execution_count": 59,
   "metadata": {},
   "outputs": [],
   "source": [
    "tagged = [TaggedDocument(words=chunk, tags=[str(i)]) for i, chunk in enumerate(all_tokens)]"
   ]
  },
  {
   "cell_type": "code",
   "execution_count": 60,
   "metadata": {},
   "outputs": [],
   "source": [
    "third_model = pickle.load(open(\"third_model\", \"rb\"))"
   ]
  },
  {
   "cell_type": "code",
   "execution_count": 61,
   "metadata": {
    "code_folding": []
   },
   "outputs": [],
   "source": [
    "# # MODEL PARAMETERS\n",
    "# dm = 0 # 1 for distributed memory(default); 0 for dbow \n",
    "# size = 300\n",
    "# context_window = 20\n",
    "# seed = 0\n",
    "# min_count = 10\n",
    "# alpha = 0.01\n",
    "# max_iter = 200"
   ]
  },
  {
   "cell_type": "code",
   "execution_count": 62,
   "metadata": {
    "code_folding": [],
    "scrolled": false
   },
   "outputs": [],
   "source": [
    "# # BUILD MODEL\n",
    "# third_model = gensim.models.doc2vec.Doc2Vec(documents = tagged,\n",
    "# dm = dm,\n",
    "# alpha = alpha, # initial learning rate\n",
    "# seed = seed,\n",
    "# min_count = min_count, # ignore words with freq less than min_count\n",
    "# max_vocab_size = None, # \n",
    "# window = context_window, # the number of words before and after to be used as context\n",
    "# vector_size = size, # is the dimensionality of the feature vector\n",
    "# sample = 1e-4, # ?\n",
    "# negative = 5, # ? # number of cores\n",
    "# epochs = max_iter) "
   ]
  },
  {
   "cell_type": "code",
   "execution_count": 63,
   "metadata": {},
   "outputs": [],
   "source": [
    "# pickle.dump(third_model, open(\"third_model\", \"wb\" ))"
   ]
  },
  {
   "cell_type": "code",
   "execution_count": 64,
   "metadata": {
    "scrolled": false
   },
   "outputs": [],
   "source": [
    "def print_para_from_id(tag, rank, cosine):   \n",
    "    start = tag - 1\n",
    "    end = tag + 2\n",
    "    name = paragraphs.loc[tag].title\n",
    "    book_range = paragraphs[paragraphs.title == f'{name}'].index\n",
    "    location = tag - book_range[0]\n",
    "    length = book_range[-1] - book_range[0]\n",
    "    percent = round((location/length)*100,2)\n",
    "    print('NOVEL: ' + name, '\\n')\n",
    "    print('LOCATION IN NOVEL: AT PARAGRAPH {0} out of {1}, {2}% into the book'.format(location, length, percent), '\\n')\n",
    "    for i in range(start, end):\n",
    "        if i < tag:\n",
    "            try: \n",
    "                print('...' + paragraphs.chunks[i][-200:])\n",
    "            except:\n",
    "                print('Beginning of Novel')\n",
    "        if i > tag:\n",
    "            try:\n",
    "                print(paragraphs.chunks[i][:200] + '...')\n",
    "            except:\n",
    "                print('End of Novel')\n",
    "        if i == tag:\n",
    "            print('**************************************************')\n",
    "            print('                          {0} MOST SIMILAR PARAGRAPH, COSINE_SIMILARITY: {1}               '.format(rank, cosine),'\\n')\n",
    "            print(paragraphs.chunks[i])\n",
    "            print('**************************************************')"
   ]
  },
  {
   "cell_type": "code",
   "execution_count": 65,
   "metadata": {},
   "outputs": [],
   "source": [
    "def semantic_search(type_text_here, include_quoted_novel = True):\n",
    "    # Tokenizes the input text, vectorizes it, and finds the 300 most similar tagged paragraphs.\n",
    "    tokens = model_tokenizer(type_text_here)\n",
    "    vector = third_model.infer_vector(tokens)\n",
    "    top300 = third_model.docvecs.most_similar([vector], topn=300)\n",
    "    final_tags = []\n",
    "    final_tags_other_novels = []\n",
    "    quoted_novel = paragraphs.loc[int(top300[0][0])].title\n",
    "    \n",
    "    # These need to be removed later from the whole DataFrame, but in the meantime this solution works\n",
    "    rid = \"La Navigation Aérienne L'aviation Et La Direction Des Aérostats Dans Les Temps Anciens Et Modernes\"\n",
    "    rid2 = \"The Decameron of Giovanni Boccaccio\"\n",
    "    \n",
    "    # The following two for-loops create final_tags and final_tags_other novels, which are used to\n",
    "    # filter out results based on whether the user wants to include the quoted novel. \n",
    "    #\n",
    "    # The numbers (> 20 here) filters out search results with 20 or fewer words, since the model \n",
    "    # is biased to think that short input strings are similar to short paragraphs, which only exist\n",
    "    # at the beginning and end of novels, based on how they were broken up originally. \n",
    "    #\n",
    "    # The rid statements are a short term solution for removing two Italian and French novels,\n",
    "    # and the 'letter' and 'chapter' statements are used to remove most books' appendices. \n",
    "    \n",
    "    for i in top300:\n",
    "        if ((len(model_tokenizer(paragraphs.chunks[int(i[0])])) > 20) &\n",
    "            (paragraphs.loc[int(i[0])].title != rid) &\n",
    "            (paragraphs.loc[int(i[0])].title != rid2) &\n",
    "            (model_tokenizer(paragraphs.chunks[int(i[0])]).count('letter') <10) &\n",
    "            (model_tokenizer(paragraphs.chunks[int(i[0])]).count('chapter') <10)):\n",
    "            final_tags.append(i)\n",
    "            \n",
    "    for i in top300:\n",
    "        if ((len(model_tokenizer(paragraphs.chunks[int(i[0])])) > 20) &\n",
    "            (paragraphs.loc[int(i[0])].title != rid) &\n",
    "            (paragraphs.loc[int(i[0])].title != rid2) &\n",
    "            (paragraphs.loc[int(i[0])].title != quoted_novel) &\n",
    "            (model_tokenizer(paragraphs.chunks[int(i[0])]).count('letter') <10) &\n",
    "            (model_tokenizer(paragraphs.chunks[int(i[0])]).count('chapter') < 10)):\n",
    "                final_tags_other_novels.append(i)\n",
    "                \n",
    "                \n",
    "    rank = ['FIRST', 'SECOND', 'THIRD', 'FOURTH', 'FIFTH']\n",
    "    index = 0\n",
    "    # The following two for-loops simply run the semantic search with or without the possibly-quoted novel, \n",
    "    # since otherwise the results will be dominated by paragraphs within the same novel. \n",
    "   \n",
    "    if include_quoted_novel == True:\n",
    "        print('                                  SEARCH RESULTS (INCLUDING THE QUOTED NOVEL)                             ', '\\n')\n",
    "        for i in final_tags[:5]:\n",
    "            print('______________________________________________________________________________________')\n",
    "            print(index + 1)\n",
    "            rank_i = rank[index]\n",
    "            cosine_i = round(i[1],4)\n",
    "            tag_i = int(i[0])\n",
    "            print_para_from_id(tag_i, rank_i, cosine_i)\n",
    "            index += 1\n",
    "            print('\\n')\n",
    "            print('______________________________________________________________________________________')\n",
    "            \n",
    "    if include_quoted_novel == False:\n",
    "        print('                                  SEARCH RESULTS (*NOT* INCLUDING THE QUOTED NOVEL)                             ', '\\n')\n",
    "        for i in final_tags_other_novels[:5]:\n",
    "            print('______________________________________________________________________________________')\n",
    "            print(index + 1)\n",
    "            rank_i = rank[index]\n",
    "            cosine_i = round(i[1],4)\n",
    "            tag_i = int(i[0])\n",
    "            print_para_from_id(tag_i, rank_i, cosine_i)\n",
    "            index += 1\n",
    "            print('\\n')\n",
    "            print('______________________________________________________________________________________')"
   ]
  },
  {
   "cell_type": "markdown",
   "metadata": {},
   "source": [
    "**Type in the following cell to set 'test' equal to the desired search string, and then run it \n",
    "through the semantic search function**"
   ]
  },
  {
   "cell_type": "code",
   "execution_count": 66,
   "metadata": {},
   "outputs": [],
   "source": [
    "test = '' # type input here to search for related paragraphs"
   ]
  },
  {
   "cell_type": "code",
   "execution_count": 67,
   "metadata": {
    "scrolled": true
   },
   "outputs": [
    {
     "data": {
      "text/plain": [
       "''"
      ]
     },
     "execution_count": 67,
     "metadata": {},
     "output_type": "execute_result"
    }
   ],
   "source": [
    "test"
   ]
  },
  {
   "cell_type": "code",
   "execution_count": null,
   "metadata": {},
   "outputs": [],
   "source": [
    "semantic_search(test, include_quoted_novel = True)"
   ]
  },
  {
   "cell_type": "markdown",
   "metadata": {},
   "source": [
    "## Examples Demonstrating Usefulness"
   ]
  },
  {
   "cell_type": "markdown",
   "metadata": {},
   "source": [
    "**Alice in Wonderland**"
   ]
  },
  {
   "cell_type": "code",
   "execution_count": 69,
   "metadata": {},
   "outputs": [],
   "source": [
    "test = \"It would have made a dreadfully ugly child but it makes rather a handsome pig.\""
   ]
  },
  {
   "cell_type": "code",
   "execution_count": 70,
   "metadata": {},
   "outputs": [
    {
     "data": {
      "text/plain": [
       "'It would have made a dreadfully ugly child but it makes rather a handsome pig.'"
      ]
     },
     "execution_count": 70,
     "metadata": {},
     "output_type": "execute_result"
    }
   ],
   "source": [
    "test"
   ]
  },
  {
   "cell_type": "code",
   "execution_count": 71,
   "metadata": {
    "scrolled": false
   },
   "outputs": [
    {
     "name": "stdout",
     "output_type": "stream",
     "text": [
      "                                  SEARCH RESULTS (INCLUDING THE QUOTED NOVEL)                              \n",
      "\n",
      "______________________________________________________________________________________\n",
      "1\n",
      "NOVEL: Alice's Adventures in Wonderland \n",
      "\n",
      "LOCATION IN NOVEL: AT PARAGRAPH 54 out of 42093, 0.13% into the book \n",
      "\n",
      "...es were getting extremely small for a baby: altogether Alice did not like the look of the thing at all. “But perhaps it was only sobbing,” she thought, and looked into its eyes again, to see if there \n",
      "**************************************************\n",
      "                          FIRST MOST SIMILAR PARAGRAPH, COSINE_SIMILARITY: 0.4972                \n",
      "\n",
      "were any tears. No, there were no tears. “If you’re going to turn into a pig, my dear,” said Alice, seriously, “I’ll have nothing more to do with you. Mind now!” The poor little thing sobbed again (or grunted, it was impossible to say which), and they went on for some while in silence. Alice was just beginning to think to herself, “Now, what am I to do with this creature when I get it home?” when it grunted again, so violently, that she looked down into its face in some alarm. This time there could be no mistake about it: it was neither more nor less than a pig, and she felt that it would be quite absurd for her to carry it further. So she set the little creature down, and felt quite relieved to see it trot away quietly into the wood. “If it had grown up,” she said to herself, “it would have made a dreadfully ugly child: but it makes rather a handsome pig, I think.” And she began thinking over other children she knew, who might do very well as pigs, and was just saying to herself, “if one only knew the right way to change them—” when she was a little startled by seeing the Cheshire Cat sitting on a bough of a tree a few yards off. The Cat only grinned when it saw Alice. It looked g\n",
      "**************************************************\n",
      "ood-natured, she thought: still it had very long claws and a great many teeth, so she felt that it ought to be treated with respect. “Cheshire Puss,” she began, rather timidly, as she did not at all k...\n",
      "\n",
      "\n",
      "______________________________________________________________________________________\n",
      "______________________________________________________________________________________\n",
      "2\n",
      "NOVEL: Anna Karenina \n",
      "\n",
      "LOCATION IN NOVEL: AT PARAGRAPH 537 out of 1627, 33.01% into the book \n",
      "\n",
      "...at there’s nothing she longs for so much as quiet and solitude,” Dolly said after the silence that had followed. “And how is she—better?” Levin asked in agitation. “Thank God, she’s quite well again. \n",
      "**************************************************\n",
      "                          SECOND MOST SIMILAR PARAGRAPH, COSINE_SIMILARITY: 0.4374                \n",
      "\n",
      "I never believed her lungs were affected.” “Oh, I’m very glad!” said Levin, and Dolly fancied she saw something touching, helpless, in his face as he said this and looked silently into her face. “Let me ask you, Konstantin Dmitrievitch,” said Darya Alexandrovna, smiling her kindly and rather mocking smile, “why is it you are angry with Kitty?” “I? I’m not angry with her,” said Levin. “Yes, you are angry. Why was it you did not come to see us nor them when you were in Moscow?” “Darya Alexandrovna,” he said, blushing up to the roots of his hair, “I wonder really that with your kind heart you don’t feel this. How it is you feel no pity for me, if nothing else, when you know....” “What do I know?” “You know I made an offer and that I was refused,” said Levin, and all the tenderness he had been feeling for Kitty a minute before was replaced by a feeling of anger for the slight he had suffered. “What makes you suppose I know?” “Because everybody knows it....” “That’s just where you are mistaken; I did not know it, though I had guessed it was so.” “Well, now you know it.” “All I knew was that something had happened that made her dreadfully miserable, and that she begged me never to speak \n",
      "**************************************************\n",
      "of it. And if she would not tell me, she would certainly not speak of it to anyone else. But what did pass between you? Tell me.” “I have told you.” “When was it?” “When I was at their house the last ...\n",
      "\n",
      "\n",
      "______________________________________________________________________________________\n",
      "______________________________________________________________________________________\n",
      "3\n",
      "NOVEL: Treasure Island \n",
      "\n",
      "LOCATION IN NOVEL: AT PARAGRAPH 298 out of 298, 100.0% into the book \n",
      "\n",
      "... they shall lie there for me. Oxen and wain-ropes would not bring me back again to that accursed island; and the worst dreams that ever I have are when I hear the surf booming about its coasts or star\n",
      "**************************************************\n",
      "                          THIRD MOST SIMILAR PARAGRAPH, COSINE_SIMILARITY: 0.4067                \n",
      "\n",
      "t upright in bed with the sharp voice of Captain Flint still ringing in my ears: “Pieces of eight! Pieces of eight!” \n",
      "**************************************************\n",
      " THE YELLOW WALLPAPER It is very seldom that mere ordinary people like John and myself secure ancestral halls for the summer. A colonial mansion, a hereditary estate, I would say a haunted house, and ...\n",
      "\n",
      "\n",
      "______________________________________________________________________________________\n",
      "______________________________________________________________________________________\n",
      "4\n",
      "NOVEL: Little Women \n",
      "\n",
      "LOCATION IN NOVEL: AT PARAGRAPH 265 out of 825, 32.12% into the book \n",
      "\n",
      "...it?\" asked Amy, who would as soon have thought of cutting off her head as her pretty hair. \"Well, I was wild to do something for Father,\" replied Jo, as they gathered about the table, for healthy youn\n",
      "**************************************************\n",
      "                          FOURTH MOST SIMILAR PARAGRAPH, COSINE_SIMILARITY: 0.3954                \n",
      "\n",
      "g people can eat even in the midst of trouble. \"I hate to borrow as much as Mother does, and I knew Aunt March would croak, she always does, if you ask for a ninepence. Meg gave all her quarterly salary toward the rent, and I only got some clothes with mine, so I felt wicked, and was bound to have some money, if I sold the nose off my face to get it.\" \"You needn't feel wicked, my child! You had no winter things and got the simplest with your own hard earnings,\" said Mrs. March with a look that warmed Jo's heart. \"I hadn't the least idea of selling my hair at first, but as I went along I kept thinking what I could do, and feeling as if I'd like to dive into some of the rich stores and help myself. In a barber's window I saw tails of hair with the prices marked, and one black tail, not so thick as mine, was forty dollars. It came to me all of a sudden that I had one thing to make money out of, and without stopping to think, I walked in, asked if they bought hair, and what they would give for mine.\" \"I don't see how you dared to do it,\" said Beth in a tone of awe. \"Oh, he was a little man who looked as if he merely lived to oil his hair. He rather stared at first, as if he wasn't used\n",
      "**************************************************\n",
      " to having girls bounce into his shop and ask him to buy their hair. He said he didn't care about mine, it wasn't the fashionable color, and he never paid much for it in the first place. The work put ...\n",
      "\n",
      "\n",
      "______________________________________________________________________________________\n",
      "______________________________________________________________________________________\n",
      "5\n",
      "NOVEL: Great Expectations \n",
      "\n",
      "LOCATION IN NOVEL: AT PARAGRAPH 41 out of 822, 4.99% into the book \n",
      "\n",
      "...said it; “might be deduced from that text.” (“You listen to this,” said my sister to me, in a severe parenthesis.) Joe gave me some more gravy. “Swine,” pursued Mr. Wopsle, in his deepest voice, and p\n",
      "**************************************************\n",
      "                          FIFTH MOST SIMILAR PARAGRAPH, COSINE_SIMILARITY: 0.3949                \n",
      "\n",
      "ointing his fork at my blushes, as if he were mentioning my Christian name,—“swine were the companions of the prodigal. The gluttony of Swine is put before us, as an example to the young.” (I thought this pretty well in him who had been praising up the pork for being so plump and juicy.) “What is detestable in a pig is more detestable in a boy.” “Or girl,” suggested Mr. Hubble. “Of course, or girl, Mr. Hubble,” assented Mr. Wopsle, rather irritably, “but there is no girl present.” “Besides,” said Mr. Pumblechook, turning sharp on me, “think what you’ve got to be grateful for. If you’d been born a Squeaker—” “He was, if ever a child was,” said my sister, most emphatically. Joe gave me some more gravy. “Well, but I mean a four-footed Squeaker,” said Mr. Pumblechook. “If you had been born such, would you have been here now? Not you—” “Unless in that form,” said Mr. Wopsle, nodding towards the dish. “But I don’t mean in that form, sir,” returned Mr. Pumblechook, who had an objection to being interrupted; “I mean, enjoying himself with his elders and betters, and improving himself with their conversation, and rolling in the lap of luxury. Would he have been doing that? No, he wouldn’t. \n",
      "**************************************************\n",
      "And what would have been your destination?” turning on me again. “You would have been disposed of for so many shillings according to the market price of the article, and Dunstable the butcher would ha...\n",
      "\n",
      "\n",
      "______________________________________________________________________________________\n"
     ]
    }
   ],
   "source": [
    "semantic_search(test, include_quoted_novel = True)"
   ]
  }
 ],
 "metadata": {
  "kernelspec": {
   "display_name": "Python 3",
   "language": "python",
   "name": "python3"
  },
  "language_info": {
   "codemirror_mode": {
    "name": "ipython",
    "version": 3
   },
   "file_extension": ".py",
   "mimetype": "text/x-python",
   "name": "python",
   "nbconvert_exporter": "python",
   "pygments_lexer": "ipython3",
   "version": "3.7.4"
  },
  "toc": {
   "base_numbering": 1,
   "nav_menu": {},
   "number_sections": true,
   "sideBar": true,
   "skip_h1_title": false,
   "title_cell": "Table of Contents",
   "title_sidebar": "Contents",
   "toc_cell": false,
   "toc_position": {
    "height": "calc(100% - 180px)",
    "left": "10px",
    "top": "150px",
    "width": "261px"
   },
   "toc_section_display": true,
   "toc_window_display": true
  }
 },
 "nbformat": 4,
 "nbformat_minor": 2
}
